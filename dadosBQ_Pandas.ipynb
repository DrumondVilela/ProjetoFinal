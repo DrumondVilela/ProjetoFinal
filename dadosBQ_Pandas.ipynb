{
  "nbformat": 4,
  "nbformat_minor": 0,
  "metadata": {
    "interpreter": {
      "hash": "8d4df5900709c83baa4e915cf9bc67a3a22dd4dbb7eadf9e1a1939c20714bfbb"
    },
    "kernelspec": {
      "display_name": "Python 3.9.9 64-bit",
      "language": "python",
      "name": "python3"
    },
    "language_info": {
      "codemirror_mode": {
        "name": "ipython",
        "version": 3
      },
      "file_extension": ".py",
      "mimetype": "text/x-python",
      "name": "python",
      "nbconvert_exporter": "python",
      "pygments_lexer": "ipython3",
      "version": "3.9.9"
    },
    "orig_nbformat": 4,
    "colab": {
      "name": "Cópia de pandas_dataset02.ipynb",
      "provenance": []
    }
  },
  "cells": [
    {
      "cell_type": "code",
      "metadata": {
        "id": "nQ6OTe2m09xG"
      },
      "source": [
        "pip install pandera"
      ],
      "execution_count": null,
      "outputs": []
    },
    {
      "cell_type": "code",
      "metadata": {
        "id": "esOidl2W4tsm"
      },
      "source": [
        "pip install gcsfs"
      ],
      "execution_count": null,
      "outputs": []
    },
    {
      "cell_type": "code",
      "metadata": {
        "id": "2awbCVj94zm9"
      },
      "source": [
        "import os\n",
        "import pandas as pd\n",
        "from google.cloud import storage"
      ],
      "execution_count": null,
      "outputs": []
    },
    {
      "cell_type": "code",
      "metadata": {
        "id": "HhGuWhhA46es"
      },
      "source": [
        "serviceAccount = '/content/Chave Ingestao Apache.json'\n",
        "os.environ['GOOGLE_APPLICATION_CREDENTIALS'] = serviceAccount"
      ],
      "execution_count": null,
      "outputs": []
    },
    {
      "cell_type": "code",
      "metadata": {
        "id": "XivUFYCt09xM"
      },
      "source": [
        "#leitura do arquivo em JSON\n",
        "df = pd.read_json(r'gs://projeto-final-grupo09/entrada_dados/Projeto Final', lines = True)\n",
        "df.head(1)"
      ],
      "execution_count": null,
      "outputs": []
    },
    {
      "cell_type": "code",
      "metadata": {
        "id": "3HB3IeE509xN"
      },
      "source": [
        "#Renomeando colunas\n",
        "df.rename(columns={'id':'identificacao','created_on':'criado_em','operation':'operacao','property_type':'tipo_propriedade',\n",
        "                   'place_name':'nome_do_local','place_with_parent_names':'pais_local','country_name':'pais','state_name':'estado',\n",
        "                   'geonames_id':'g_nomes','lat_lon':'latitude_longitude','lat':'latitude','lon':'longitude','price':\n",
        "                   'preco_cheio','currency':'moeda','price_aprox_local_currency':'preco',\n",
        "                   'price_aprox_usd':'preco_aproximado_dolar','surface_total_in_m2':'area_total_por_m2',\n",
        "                   'surface_covered_in_m2':'area_construcao_em_m2','price_usd_per_m2':'preco_dolar_por_m2',\n",
        "                   'price_per_m2':'preco_por_m2','floor':'andar','rooms':'quartos','expenses':'despesas',\n",
        "                   'properati_url':'url_da_propriedade','description':'descricao', 'title':'titulo',\n",
        "                   'image_thumbnail':'miniatura_imagem'}, inplace = True)\n",
        "df.head(2)\n"
      ],
      "execution_count": null,
      "outputs": []
    },
    {
      "cell_type": "code",
      "metadata": {
        "id": "i2JK6DEK09xO",
        "colab": {
          "base_uri": "https://localhost:8080/"
        },
        "outputId": "813f69ea-ef6d-4330-e390-60fcce443f4d"
      },
      "source": [
        "#chamar a coluna de operacao para ver se tem algo além de venda (no caso a coluna só tem sell - venda - entao irei dropar posteriormente)\n",
        "sorted(pd.unique(df['operacao']))"
      ],
      "execution_count": null,
      "outputs": [
        {
          "output_type": "execute_result",
          "data": {
            "text/plain": [
              "['sell']"
            ]
          },
          "metadata": {},
          "execution_count": 38
        }
      ]
    },
    {
      "cell_type": "code",
      "metadata": {
        "id": "TK_D2CXq09xP",
        "colab": {
          "base_uri": "https://localhost:8080/"
        },
        "outputId": "36077563-133b-497d-a91d-72ef494b629d"
      },
      "source": [
        "#chamar a coluna de país para ver se tem algo além de Brasil (no caso só tem Brasil - então iremos dropar posteriormente)\n",
        "sorted(pd.unique(df['pais']))"
      ],
      "execution_count": null,
      "outputs": [
        {
          "output_type": "execute_result",
          "data": {
            "text/plain": [
              "['Brasil']"
            ]
          },
          "metadata": {},
          "execution_count": 39
        }
      ]
    },
    {
      "cell_type": "code",
      "metadata": {
        "id": "z-ao8HGt09xP",
        "colab": {
          "base_uri": "https://localhost:8080/"
        },
        "outputId": "3c0d4c37-6c25-4778-af8e-1f51712a00ec"
      },
      "source": [
        "#chamar a coluna de moeda para ver se tem algo além de BRL (no caso só tem BRL - então iremos dropar posteriormente)\n",
        "sorted(pd.unique(df['moeda']))"
      ],
      "execution_count": null,
      "outputs": [
        {
          "output_type": "execute_result",
          "data": {
            "text/plain": [
              "['', 'BRL', 'COP']"
            ]
          },
          "metadata": {},
          "execution_count": 40
        }
      ]
    },
    {
      "cell_type": "code",
      "metadata": {
        "id": "sBmJre1Y09xR"
      },
      "source": [
        "#criacao de variavel - colunas - para posterior drop\n",
        "colunas = ['operacao', 'pais', 'moeda', 'latitude_longitude', 'latitude', 'longitude', 'preco_aproximado_dolar', 'pais_local', \n",
        "'preco_dolar_por_m2', 'andar', 'despesas', 'descricao', 'titulo', 'miniatura_imagem', 'url_da_propriedade', 'preco_cheio']\n",
        "df.drop(colunas, axis=1, inplace=True)"
      ],
      "execution_count": null,
      "outputs": []
    },
    {
      "cell_type": "code",
      "metadata": {
        "id": "b6FTpl6m09xS",
        "colab": {
          "base_uri": "https://localhost:8080/"
        },
        "outputId": "7042ded1-3ff1-4355-a629-31d3b1927878"
      },
      "source": [
        "#verificando se há (e quantos são) os valores na coluna nome_do_local\n",
        "df['nome_do_local'].value_counts()"
      ],
      "execution_count": null,
      "outputs": [
        {
          "output_type": "execute_result",
          "data": {
            "text/plain": [
              "Porto Alegre       14823\n",
              "Praia Grande       14425\n",
              "Centro             13970\n",
              "Santo André        12884\n",
              "Copacabana          5534\n",
              "                   ...  \n",
              "Jardim Cerrado         1\n",
              "Vila Josefina          1\n",
              "Caju                   1\n",
              "Jardim Mosteiro        1\n",
              "Jardim Monjolo         1\n",
              "Name: nome_do_local, Length: 4400, dtype: int64"
            ]
          },
          "metadata": {},
          "execution_count": 42
        }
      ]
    },
    {
      "cell_type": "code",
      "metadata": {
        "id": "b5kF1cev09xT",
        "colab": {
          "base_uri": "https://localhost:8080/"
        },
        "outputId": "9bd7ec9c-aad1-49b3-bd88-82f1a73ae246"
      },
      "source": [
        "#verificar se há apenas um valor na coluna (no caso a coluna propriedade_tipo tem 3 informações significativas e uma (PH) que será dropada)\n",
        "sorted(pd.unique(df['tipo_propriedade']))"
      ],
      "execution_count": null,
      "outputs": [
        {
          "output_type": "execute_result",
          "data": {
            "text/plain": [
              "['PH', 'apartment', 'house', 'store']"
            ]
          },
          "metadata": {},
          "execution_count": 43
        }
      ]
    },
    {
      "cell_type": "code",
      "metadata": {
        "id": "nmM8tmO009xU",
        "colab": {
          "base_uri": "https://localhost:8080/"
        },
        "outputId": "e67500b5-1902-42c0-9069-40f482f34982"
      },
      "source": [
        "#contando quantos valores tem cada um dos itens em tipo_propriedade - casa, apartamento e lojas\n",
        "df['tipo_propriedade'].value_counts()"
      ],
      "execution_count": null,
      "outputs": [
        {
          "output_type": "execute_result",
          "data": {
            "text/plain": [
              "apartment    273577\n",
              "house        135213\n",
              "store          8894\n",
              "PH              429\n",
              "Name: tipo_propriedade, dtype: int64"
            ]
          },
          "metadata": {},
          "execution_count": 44
        }
      ]
    },
    {
      "cell_type": "code",
      "metadata": {
        "id": "kdlpClot09xU"
      },
      "source": [
        "#traduzindo as informações contidas na coluna de tipo_propriedade\n",
        "df['tipo_propriedade'].replace(['house', 'apartment', 'store'],['casa','apartamento','loja'], inplace = True)"
      ],
      "execution_count": null,
      "outputs": []
    },
    {
      "cell_type": "code",
      "metadata": {
        "id": "I79-Pjte09xV"
      },
      "source": [
        "#quantidade de quartos e salas (no caso das lojas)\n",
        "df['quartos'].value_counts()"
      ],
      "execution_count": null,
      "outputs": []
    },
    {
      "cell_type": "code",
      "metadata": {
        "id": "hw2TG4hD09xV"
      },
      "source": [
        "#chamar a coluna de quartos para descobrir quais os valores contidos\n",
        "sorted(pd.unique(df['quartos']))"
      ],
      "execution_count": null,
      "outputs": []
    },
    {
      "cell_type": "code",
      "metadata": {
        "id": "ez8BScPm09xW"
      },
      "source": [
        "#devido a coluna quartos ser um float, forçamos ele a se tornar um numero inteiro e o NaN se tornar 0\n",
        "df['quartos'] = df['quartos'].fillna(0.0).astype(int)"
      ],
      "execution_count": null,
      "outputs": []
    },
    {
      "cell_type": "code",
      "metadata": {
        "id": "iLiyM4-m09xW"
      },
      "source": [
        "df.head(10)"
      ],
      "execution_count": null,
      "outputs": []
    },
    {
      "cell_type": "code",
      "metadata": {
        "id": "vicocrPY09xW"
      },
      "source": [
        "df.to_csv(\"gs://lucao-buck\", sep=\",\", index=False)"
      ],
      "execution_count": null,
      "outputs": []
    },
    {
      "cell_type": "code",
      "metadata": {
        "id": "_nujjj1E1Fdw"
      },
      "source": [
        "from google.colab import drive\n",
        "drive.mount('/content/drive')"
      ],
      "execution_count": null,
      "outputs": []
    }
  ]
}