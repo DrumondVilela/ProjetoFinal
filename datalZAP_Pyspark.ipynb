{
  "nbformat": 4,
  "nbformat_minor": 0,
  "metadata": {
    "colab": {
      "name": "ProjetoFinalZAP_Pyspark.ipynb",
      "provenance": [],
      "collapsed_sections": []
    },
    "kernelspec": {
      "name": "python3",
      "display_name": "Python 3"
    },
    "language_info": {
      "name": "python"
    }
  },
  "cells": [
    {
      "cell_type": "code",
      "metadata": {
        "colab": {
          "base_uri": "https://localhost:8080/"
        },
        "id": "Qc8jmdhaiAqp",
        "outputId": "c6ea39a0-344d-4231-f152-ea7ce0da4399"
      },
      "source": [
        "# instalar as dependências\n",
        "!apt-get install openjdk-8-jdk-headless -qq > /dev/null\n",
        "!wget -q https://archive.apache.org/dist/spark/spark-2.4.4/spark-2.4.4-bin-hadoop2.7.tgz\n",
        "!tar xf spark-2.4.4-bin-hadoop2.7.tgz\n",
        "!pip install -q findspark\n",
        "!pip install fsspec\n",
        "!pip install gcsfs"
      ],
      "execution_count": 73,
      "outputs": [
        {
          "output_type": "stream",
          "name": "stdout",
          "text": [
            "Requirement already satisfied: fsspec in /usr/local/lib/python3.7/dist-packages (2021.11.0)\n",
            "Requirement already satisfied: gcsfs in /usr/local/lib/python3.7/dist-packages (2021.11.0)\n",
            "Requirement already satisfied: google-auth-oauthlib in /usr/local/lib/python3.7/dist-packages (from gcsfs) (0.4.6)\n",
            "Requirement already satisfied: decorator>4.1.2 in /usr/local/lib/python3.7/dist-packages (from gcsfs) (4.4.2)\n",
            "Requirement already satisfied: fsspec==2021.11.0 in /usr/local/lib/python3.7/dist-packages (from gcsfs) (2021.11.0)\n",
            "Requirement already satisfied: aiohttp in /usr/local/lib/python3.7/dist-packages (from gcsfs) (3.8.1)\n",
            "Requirement already satisfied: requests in /usr/local/lib/python3.7/dist-packages (from gcsfs) (2.23.0)\n",
            "Requirement already satisfied: google-auth>=1.2 in /usr/local/lib/python3.7/dist-packages (from gcsfs) (1.35.0)\n",
            "Requirement already satisfied: google-cloud-storage in /usr/local/lib/python3.7/dist-packages (from gcsfs) (1.18.1)\n",
            "Requirement already satisfied: cachetools<5.0,>=2.0.0 in /usr/local/lib/python3.7/dist-packages (from google-auth>=1.2->gcsfs) (4.2.4)\n",
            "Requirement already satisfied: rsa<5,>=3.1.4 in /usr/local/lib/python3.7/dist-packages (from google-auth>=1.2->gcsfs) (4.7.2)\n",
            "Requirement already satisfied: six>=1.9.0 in /usr/local/lib/python3.7/dist-packages (from google-auth>=1.2->gcsfs) (1.15.0)\n",
            "Requirement already satisfied: pyasn1-modules>=0.2.1 in /usr/local/lib/python3.7/dist-packages (from google-auth>=1.2->gcsfs) (0.2.8)\n",
            "Requirement already satisfied: setuptools>=40.3.0 in /usr/local/lib/python3.7/dist-packages (from google-auth>=1.2->gcsfs) (57.4.0)\n",
            "Requirement already satisfied: pyasn1<0.5.0,>=0.4.6 in /usr/local/lib/python3.7/dist-packages (from pyasn1-modules>=0.2.1->google-auth>=1.2->gcsfs) (0.4.8)\n",
            "Requirement already satisfied: aiosignal>=1.1.2 in /usr/local/lib/python3.7/dist-packages (from aiohttp->gcsfs) (1.2.0)\n",
            "Requirement already satisfied: asynctest==0.13.0 in /usr/local/lib/python3.7/dist-packages (from aiohttp->gcsfs) (0.13.0)\n",
            "Requirement already satisfied: yarl<2.0,>=1.0 in /usr/local/lib/python3.7/dist-packages (from aiohttp->gcsfs) (1.7.2)\n",
            "Requirement already satisfied: typing-extensions>=3.7.4 in /usr/local/lib/python3.7/dist-packages (from aiohttp->gcsfs) (3.10.0.2)\n",
            "Requirement already satisfied: multidict<7.0,>=4.5 in /usr/local/lib/python3.7/dist-packages (from aiohttp->gcsfs) (5.2.0)\n",
            "Requirement already satisfied: frozenlist>=1.1.1 in /usr/local/lib/python3.7/dist-packages (from aiohttp->gcsfs) (1.2.0)\n",
            "Requirement already satisfied: charset-normalizer<3.0,>=2.0 in /usr/local/lib/python3.7/dist-packages (from aiohttp->gcsfs) (2.0.7)\n",
            "Requirement already satisfied: async-timeout<5.0,>=4.0.0a3 in /usr/local/lib/python3.7/dist-packages (from aiohttp->gcsfs) (4.0.1)\n",
            "Requirement already satisfied: attrs>=17.3.0 in /usr/local/lib/python3.7/dist-packages (from aiohttp->gcsfs) (21.2.0)\n",
            "Requirement already satisfied: idna>=2.0 in /usr/local/lib/python3.7/dist-packages (from yarl<2.0,>=1.0->aiohttp->gcsfs) (2.10)\n",
            "Requirement already satisfied: requests-oauthlib>=0.7.0 in /usr/local/lib/python3.7/dist-packages (from google-auth-oauthlib->gcsfs) (1.3.0)\n",
            "Requirement already satisfied: oauthlib>=3.0.0 in /usr/local/lib/python3.7/dist-packages (from requests-oauthlib>=0.7.0->google-auth-oauthlib->gcsfs) (3.1.1)\n",
            "Requirement already satisfied: urllib3!=1.25.0,!=1.25.1,<1.26,>=1.21.1 in /usr/local/lib/python3.7/dist-packages (from requests->gcsfs) (1.24.3)\n",
            "Requirement already satisfied: chardet<4,>=3.0.2 in /usr/local/lib/python3.7/dist-packages (from requests->gcsfs) (3.0.4)\n",
            "Requirement already satisfied: certifi>=2017.4.17 in /usr/local/lib/python3.7/dist-packages (from requests->gcsfs) (2021.10.8)\n",
            "Requirement already satisfied: google-cloud-core<2.0dev,>=1.0.0 in /usr/local/lib/python3.7/dist-packages (from google-cloud-storage->gcsfs) (1.0.3)\n",
            "Requirement already satisfied: google-resumable-media<0.5.0dev,>=0.3.1 in /usr/local/lib/python3.7/dist-packages (from google-cloud-storage->gcsfs) (0.4.1)\n",
            "Requirement already satisfied: google-api-core<2.0.0dev,>=1.14.0 in /usr/local/lib/python3.7/dist-packages (from google-cloud-core<2.0dev,>=1.0.0->google-cloud-storage->gcsfs) (1.26.3)\n",
            "Requirement already satisfied: pytz in /usr/local/lib/python3.7/dist-packages (from google-api-core<2.0.0dev,>=1.14.0->google-cloud-core<2.0dev,>=1.0.0->google-cloud-storage->gcsfs) (2018.9)\n",
            "Requirement already satisfied: packaging>=14.3 in /usr/local/lib/python3.7/dist-packages (from google-api-core<2.0.0dev,>=1.14.0->google-cloud-core<2.0dev,>=1.0.0->google-cloud-storage->gcsfs) (21.3)\n",
            "Requirement already satisfied: googleapis-common-protos<2.0dev,>=1.6.0 in /usr/local/lib/python3.7/dist-packages (from google-api-core<2.0.0dev,>=1.14.0->google-cloud-core<2.0dev,>=1.0.0->google-cloud-storage->gcsfs) (1.53.0)\n",
            "Requirement already satisfied: protobuf>=3.12.0 in /usr/local/lib/python3.7/dist-packages (from google-api-core<2.0.0dev,>=1.14.0->google-cloud-core<2.0dev,>=1.0.0->google-cloud-storage->gcsfs) (3.17.3)\n",
            "Requirement already satisfied: pyparsing!=3.0.5,>=2.0.2 in /usr/local/lib/python3.7/dist-packages (from packaging>=14.3->google-api-core<2.0.0dev,>=1.14.0->google-cloud-core<2.0dev,>=1.0.0->google-cloud-storage->gcsfs) (3.0.6)\n"
          ]
        }
      ]
    },
    {
      "cell_type": "code",
      "metadata": {
        "colab": {
          "base_uri": "https://localhost:8080/"
        },
        "id": "9Frj_7aCkGoI",
        "outputId": "9ce98101-9420-41ed-e6da-354e99799154"
      },
      "source": [
        "#BIBLIOTECAS\n",
        "!pip install pyspark\n",
        "import pyspark.sql.functions as F\n",
        "from pyspark.sql import SparkSession\n",
        "from pyspark.sql.types import StructType, StructField, StringType, IntegerType, DoubleType, DateType, LongType\n",
        "from pyspark.sql.window import Window\n",
        "import pandas as pd\n",
        "from pyspark.sql.functions import monotonically_increasing_id "
      ],
      "execution_count": 180,
      "outputs": [
        {
          "output_type": "stream",
          "name": "stdout",
          "text": [
            "Requirement already satisfied: pyspark in /usr/local/lib/python3.7/dist-packages (3.2.0)\n",
            "Requirement already satisfied: py4j==0.10.9.2 in /usr/local/lib/python3.7/dist-packages (from pyspark) (0.10.9.2)\n"
          ]
        }
      ]
    },
    {
      "cell_type": "code",
      "metadata": {
        "id": "iMIvwRPk2L8X"
      },
      "source": [
        "import os\n",
        "from google.cloud import storage"
      ],
      "execution_count": 75,
      "outputs": []
    },
    {
      "cell_type": "code",
      "metadata": {
        "colab": {
          "base_uri": "https://localhost:8080/",
          "height": 222
        },
        "id": "F4m5DqfikGq1",
        "outputId": "02685427-9d92-4b1a-96a8-f8cbb9be38f3"
      },
      "source": [
        "#CONFIGURAR A SPARKSESSION\n",
        "\n",
        "spark = (SparkSession.builder\\\n",
        "        .master(\"local\")\\\n",
        "        .appName(\"ProjetoFinal_Pyspark\")\\\n",
        "        .config(\"spark.ui.port\", \"4050\")\\\n",
        "        .getOrCreate())\n",
        "\n",
        "spark"
      ],
      "execution_count": 76,
      "outputs": [
        {
          "output_type": "execute_result",
          "data": {
            "text/html": [
              "\n",
              "            <div>\n",
              "                <p><b>SparkSession - in-memory</b></p>\n",
              "                \n",
              "        <div>\n",
              "            <p><b>SparkContext</b></p>\n",
              "\n",
              "            <p><a href=\"http://707377761f1c:4050\">Spark UI</a></p>\n",
              "\n",
              "            <dl>\n",
              "              <dt>Version</dt>\n",
              "                <dd><code>v3.2.0</code></dd>\n",
              "              <dt>Master</dt>\n",
              "                <dd><code>local</code></dd>\n",
              "              <dt>AppName</dt>\n",
              "                <dd><code>ProjetoFinal_Pyspark</code></dd>\n",
              "            </dl>\n",
              "        </div>\n",
              "        \n",
              "            </div>\n",
              "        "
            ],
            "text/plain": [
              "<pyspark.sql.session.SparkSession at 0x7fe40a274bd0>"
            ]
          },
          "metadata": {},
          "execution_count": 76
        }
      ]
    },
    {
      "cell_type": "code",
      "metadata": {
        "colab": {
          "base_uri": "https://localhost:8080/"
        },
        "id": "IzlmPukgkGtx",
        "outputId": "28f2aebc-e4c1-4e27-fdc4-2d1f0ee6ee8f"
      },
      "source": [
        "# Abrindo o arquivo\n",
        "serviceaccount = '/content/Chave_Ingestao_Apache.json'\n",
        "os.environ[\"GOOGLE_APPLICATION_CREDENTIALS\"] = serviceaccount\n",
        "\n",
        "dfspark = pd.read_csv('gs://projeto-final-grupo09/saida_dados/PJFINALzapLimpo.csv')\n",
        "\n",
        "# CSV \n",
        "infer_schema = \"false\"\n",
        "first_row_is_header = \"true\"\n",
        "delimiter = \",\"\n",
        "\n",
        "\n",
        "customSchema = StructType([\n",
        "  StructField(\"nome_empresa\", StringType(), True),\n",
        "  StructField(\"tipo_imovel\", StringType(), True),\n",
        "  StructField(\"cidade_imovel\", StringType(), True),\n",
        "  StructField(\"site_pesquisa\", StringType(), True),\n",
        "  StructField(\"estado_imovel\", StringType(), True),\n",
        "  StructField(\"qtde_banheiros\", IntegerType(), True),\n",
        "  StructField(\"qdte_quartos\", IntegerType(), True),\n",
        "  StructField(\"tipo_contrato\", StringType(), True),\n",
        "  StructField(\"mobilhado\", StringType(), True),\n",
        "  StructField(\"academia\", StringType(), True),\n",
        "  StructField(\"desocupado\", StringType(), True),\n",
        "  StructField(\"garagem\", IntegerType(), True),\n",
        "  StructField(\"area_lazer\", StringType(), True),\n",
        "  StructField(\"piscina\", StringType(), True),\n",
        "  StructField(\"plataforma_digital\", StringType(), True),\n",
        "  StructField(\"preco_condominio\", DoubleType(), True),\n",
        "  StructField(\"preco_periodo\", StringType(), True),\n",
        "  StructField(\"valoraluguel\", DoubleType(), True),\n",
        "  StructField(\"valor_venda\", DoubleType(), True),\n",
        "  StructField(\"iptu_anual\", DoubleType(), True),\n",
        "  StructField(\"qtde_suites\", IntegerType(), True),\n",
        "  StructField(\"quadra_tenis\", StringType(), True),\n",
        "  StructField(\"area_total_m2\", DoubleType(), True),\n",
        "  StructField(\"andar\", IntegerType(), True),\n",
        "  StructField(\"comercial_residencial\", StringType(), True),\n",
        "  StructField(\"data\", DateType(), True)\n",
        "])\n",
        "\n",
        "df1 = spark.read.load(file_location, format=\"csv\", header=\"true\", sep=',', schema=customSchema)\n",
        "\n",
        "df1.show(5)\n",
        "df1.printSchema() "
      ],
      "execution_count": 175,
      "outputs": [
        {
          "output_type": "stream",
          "name": "stderr",
          "text": [
            "/usr/local/lib/python3.7/dist-packages/IPython/core/interactiveshell.py:2718: DtypeWarning: Columns (19) have mixed types.Specify dtype option on import or set low_memory=False.\n",
            "  interactivity=interactivity, compiler=compiler, result=result)\n"
          ]
        },
        {
          "output_type": "stream",
          "name": "stdout",
          "text": [
            "+--------------------+------------+--------------+-------------+--------------+--------------+------------+-------------+---------+--------+----------+-------+----------+-------+------------------+----------------+-------------+------------+-----------+----------+-----------+------------+-------------+-----+---------------------+----------+\n",
            "|        nome_empresa| tipo_imovel| cidade_imovel|site_pesquisa| estado_imovel|qtde_banheiros|qdte_quartos|tipo_contrato|mobilhado|academia|desocupado|garagem|area_lazer|piscina|plataforma_digital|preco_condominio|preco_periodo|valoraluguel|valor_venda|iptu_anual|qtde_suites|quadra_tenis|area_total_m2|andar|comercial_residencial|      data|\n",
            "+--------------------+------------+--------------+-------------+--------------+--------------+------------+-------------+---------+--------+----------+-------+----------+-------+------------------+----------------+-------------+------------+-----------+----------+-----------+------------+-------------+-----+---------------------+----------+\n",
            "|ADI Assessoria e ...|apartamentos|     São Paulo|       GOOGLE|     São Paulo|             1|           2|      Aluguel|      Não|     Não|       Não|      0|       Não|    Não|               ZAP|            50.0|          mês|        1.35|       null|      50.0|          0|         Não|         45.0|    0|          RESIDENTIAL|2020-06-17|\n",
            "|   San Remos Imóveis|apartamentos| Florianópolis|       GOOGLE|Santa Catarina|             3|           3|      Aluguel|      Não|     Não|       Não|      1|       Não|    Não|               ZAP|           1.961|          mês|       5.561|       null|     370.0|          1|         Não|        140.0|    0|          RESIDENTIAL|2020-07-10|\n",
            "|Família Bacellar ...|apartamentos|Rio de Janeiro|       GOOGLE|Rio de Janeiro|             3|           3|      Aluguel|      Não|     Não|       Não|      2|       Não|    Não|               ZAP|           835.0|          mês|       2.935|       null|     244.0|          1|         Não|        100.0|    0|          RESIDENTIAL|2020-07-23|\n",
            "|Next Soluções Imo...|apartamentos|      Campinas|       GOOGLE|     São Paulo|             2|           1|      Aluguel|      Não|     Não|       Não|      1|       Não|    Sim|               ZAP|         134.437|          mês|     137.437|       null|      90.0|          0|         Não|         80.0|    0|          RESIDENTIAL|2016-12-12|\n",
            "|QUINTO ANDAR SERV...|apartamentos|     São Paulo|       GOOGLE|     São Paulo|             3|           2|      Aluguel|      Não|     Não|       Não|      2|       Sim|    Sim|               ZAP|           536.0|          mês|       3.136|       null|      17.0|          2|         Não|         69.0|    0|          RESIDENTIAL|2020-07-28|\n",
            "+--------------------+------------+--------------+-------------+--------------+--------------+------------+-------------+---------+--------+----------+-------+----------+-------+------------------+----------------+-------------+------------+-----------+----------+-----------+------------+-------------+-----+---------------------+----------+\n",
            "only showing top 5 rows\n",
            "\n",
            "root\n",
            " |-- nome_empresa: string (nullable = true)\n",
            " |-- tipo_imovel: string (nullable = true)\n",
            " |-- cidade_imovel: string (nullable = true)\n",
            " |-- site_pesquisa: string (nullable = true)\n",
            " |-- estado_imovel: string (nullable = true)\n",
            " |-- qtde_banheiros: integer (nullable = true)\n",
            " |-- qdte_quartos: integer (nullable = true)\n",
            " |-- tipo_contrato: string (nullable = true)\n",
            " |-- mobilhado: string (nullable = true)\n",
            " |-- academia: string (nullable = true)\n",
            " |-- desocupado: string (nullable = true)\n",
            " |-- garagem: integer (nullable = true)\n",
            " |-- area_lazer: string (nullable = true)\n",
            " |-- piscina: string (nullable = true)\n",
            " |-- plataforma_digital: string (nullable = true)\n",
            " |-- preco_condominio: double (nullable = true)\n",
            " |-- preco_periodo: string (nullable = true)\n",
            " |-- valoraluguel: double (nullable = true)\n",
            " |-- valor_venda: double (nullable = true)\n",
            " |-- iptu_anual: double (nullable = true)\n",
            " |-- qtde_suites: integer (nullable = true)\n",
            " |-- quadra_tenis: string (nullable = true)\n",
            " |-- area_total_m2: double (nullable = true)\n",
            " |-- andar: integer (nullable = true)\n",
            " |-- comercial_residencial: string (nullable = true)\n",
            " |-- data: date (nullable = true)\n",
            "\n"
          ]
        }
      ]
    },
    {
      "cell_type": "code",
      "metadata": {
        "colab": {
          "base_uri": "https://localhost:8080/"
        },
        "id": "TtyE5GY8JQ69",
        "outputId": "f78a2231-42c3-4bd8-bb95-3c49f18aa642"
      },
      "source": [
        "df_index = df1.select(\"*\").withColumn(\"id\", monotonically_increasing_id())\n",
        "df_index.show()"
      ],
      "execution_count": 179,
      "outputs": [
        {
          "output_type": "stream",
          "name": "stdout",
          "text": [
            "+--------------------+------------+--------------------+-------------+-----------------+--------------+------------+-------------+---------+--------+----------+-------+----------+-------+------------------+----------------+-------------+------------+-----------+----------+-----------+------------+-------------+-----+---------------------+----------+---+\n",
            "|        nome_empresa| tipo_imovel|       cidade_imovel|site_pesquisa|    estado_imovel|qtde_banheiros|qdte_quartos|tipo_contrato|mobilhado|academia|desocupado|garagem|area_lazer|piscina|plataforma_digital|preco_condominio|preco_periodo|valoraluguel|valor_venda|iptu_anual|qtde_suites|quadra_tenis|area_total_m2|andar|comercial_residencial|      data| id|\n",
            "+--------------------+------------+--------------------+-------------+-----------------+--------------+------------+-------------+---------+--------+----------+-------+----------+-------+------------------+----------------+-------------+------------+-----------+----------+-----------+------------+-------------+-----+---------------------+----------+---+\n",
            "|ADI Assessoria e ...|apartamentos|           São Paulo|       GOOGLE|        São Paulo|             1|           2|      Aluguel|      Não|     Não|       Não|      0|       Não|    Não|               ZAP|            50.0|          mês|        1.35|       null|      50.0|          0|         Não|         45.0|    0|          RESIDENTIAL|2020-06-17|  0|\n",
            "|   San Remos Imóveis|apartamentos|       Florianópolis|       GOOGLE|   Santa Catarina|             3|           3|      Aluguel|      Não|     Não|       Não|      1|       Não|    Não|               ZAP|           1.961|          mês|       5.561|       null|     370.0|          1|         Não|        140.0|    0|          RESIDENTIAL|2020-07-10|  1|\n",
            "|Família Bacellar ...|apartamentos|      Rio de Janeiro|       GOOGLE|   Rio de Janeiro|             3|           3|      Aluguel|      Não|     Não|       Não|      2|       Não|    Não|               ZAP|           835.0|          mês|       2.935|       null|     244.0|          1|         Não|        100.0|    0|          RESIDENTIAL|2020-07-23|  2|\n",
            "|Next Soluções Imo...|apartamentos|            Campinas|       GOOGLE|        São Paulo|             2|           1|      Aluguel|      Não|     Não|       Não|      1|       Não|    Sim|               ZAP|         134.437|          mês|     137.437|       null|      90.0|          0|         Não|         80.0|    0|          RESIDENTIAL|2016-12-12|  3|\n",
            "|QUINTO ANDAR SERV...|apartamentos|           São Paulo|       GOOGLE|        São Paulo|             3|           2|      Aluguel|      Não|     Não|       Não|      2|       Sim|    Sim|               ZAP|           536.0|          mês|       3.136|       null|      17.0|          2|         Não|         69.0|    0|          RESIDENTIAL|2020-07-28|  4|\n",
            "|FLAVIA DANIELLE P...|apartamentos|      Rio de Janeiro|       GOOGLE|   Rio de Janeiro|             1|           2|      Aluguel|      Sim|     Sim|       Não|      1|       Não|    Sim|               ZAP|           809.0|          mês|       3.309|       null|     236.0|          1|         Não|         64.0|    0|          RESIDENTIAL|2020-07-22|  5|\n",
            "|QUINTO ANDAR SERV...|apartamentos|           São Paulo|       GOOGLE|        São Paulo|             2|           1|      Aluguel|      Sim|     Não|       Não|      1|       Não|    Sim|               ZAP|           880.0|          mês|        5.78|       null|     109.0|          1|         Não|         67.0|    0|          RESIDENTIAL|2020-07-25|  6|\n",
            "|LELLO IMÓVEIS TAT...|apartamentos|           São Paulo|       GOOGLE|        São Paulo|             2|           2|      Aluguel|      Não|     Sim|       Não|      1|       Não|    Sim|               ZAP|           800.0|          mês|         2.7|       null|     132.0|          1|         Não|         73.0|    0|          RESIDENTIAL|2020-07-16|  7|\n",
            "|         NBI IMOVEIS|apartamentos|São José do Rio P...|       GOOGLE|        São Paulo|             2|           2|      Aluguel|      Não|     Não|       Não|      1|       Não|    Não|          GRUPOZAP|           450.0|          mês|        1.85|       null|      73.0|          2|         Não|         70.0|    0|          RESIDENTIAL|2020-07-28|  8|\n",
            "|PORTAL ADMINISTRA...|apartamentos|        Porto Alegre|       GOOGLE|Rio Grande do Sul|             1|           2|      Aluguel|      Não|     Não|       Não|      0|       Não|    Não|               ZAP|           260.0|          mês|        1.26|       null|      30.0|          0|         Não|         64.0|    2|          RESIDENTIAL|2020-07-13|  9|\n",
            "|LELLO IMÓVEIS JUN...|apartamentos|             Jundiaí|       GOOGLE|        São Paulo|             2|           3|      Aluguel|      Não|     Não|       Não|      2|       Não|    Não|               ZAP|           800.0|          mês|        2.45|       null|     251.0|          1|         Não|        168.0|    0|          RESIDENTIAL|2020-07-25| 10|\n",
            "|QUINTO ANDAR SERV...|apartamentos|           São Paulo|       GOOGLE|        São Paulo|             2|           2|      Aluguel|      Não|     Não|       Não|      2|       Não|    Não|               ZAP|           810.0|          mês|        2.61|       null|      95.0|          1|         Não|         68.0|    0|          RESIDENTIAL|2020-07-28| 11|\n",
            "|QUINTO ANDAR SERV...|apartamentos|      Belo Horizonte|       GOOGLE|     Minas Gerais|             3|           3|      Aluguel|      Não|     Não|       Não|      2|       Sim|    Não|               ZAP|           850.0|          mês|         3.5|       null|     297.0|          1|         Não|         90.0|    0|          RESIDENTIAL|2020-07-28| 12|\n",
            "|Predial Lins Prem...|apartamentos|           São Paulo|       GOOGLE|        São Paulo|             1|           2|      Aluguel|      Não|     Sim|       Não|      1|       Sim|    Não|               ZAP|           450.0|          mês|        2.05|       null|     102.0|          0|         Não|         50.0|    0|          RESIDENTIAL|2020-07-15| 13|\n",
            "|    Fernanda Freitas|apartamentos|      Rio de Janeiro|       GOOGLE|   Rio de Janeiro|             1|           1|      Aluguel|      Não|     Sim|       Não|      1|       Sim|    Sim|               ZAP|            1.25|          mês|        3.05|       null|     217.0|          1|         Não|         null|    4|          RESIDENTIAL|2020-07-26| 14|\n",
            "|  IMIGRANTES IMOVEIS|apartamentos|        Praia Grande|       GOOGLE|        São Paulo|             2|           2|      Aluguel|      Não|     Não|       Não|      1|       Não|    Não|               ZAP|            null|          mês|        null|       null|      null|          1|         Não|         80.0|    0|          RESIDENTIAL|2020-07-18| 15|\n",
            "|QUINTO ANDAR SERV...|apartamentos|           São Paulo|       GOOGLE|        São Paulo|             3|           3|      Aluguel|      Sim|     Não|       Não|      2|       Não|    Sim|               ZAP|           1.085|          mês|       7.885|       null|     431.0|          1|         Não|         84.0|    0|          RESIDENTIAL|2020-07-24| 16|\n",
            "|    Potência Imóveis|apartamentos|             Barueri|       GOOGLE|        São Paulo|             2|           2|      Aluguel|      Sim|     Não|       Não|      2|       Não|    Sim|               ZAP|           690.0|          mês|         3.5|       null|      50.0|          2|         Não|         86.0|    0|          RESIDENTIAL|2020-07-22| 17|\n",
            "|                 Ar7|apartamentos|        Praia Grande|       GOOGLE|        São Paulo|             2|           2|      Aluguel|      Não|     Não|       Não|      1|       Não|    Não|               ZAP|            null|          mês|        null|       null|      null|          1|         Não|         96.0|    0|          RESIDENTIAL|2020-07-21| 18|\n",
            "|AG NEGÓCIOS IMOBI...|apartamentos|      Belo Horizonte|       GOOGLE|     Minas Gerais|             3|           3|      Aluguel|      Não|     Não|       Não|      4|       Não|    Sim|               ZAP|           550.0|          mês|        3.55|       null|      null|          1|         Não|        270.0|    0|          RESIDENTIAL|2020-07-09| 19|\n",
            "+--------------------+------------+--------------------+-------------+-----------------+--------------+------------+-------------+---------+--------+----------+-------+----------+-------+------------------+----------------+-------------+------------+-----------+----------+-----------+------------+-------------+-----+---------------------+----------+---+\n",
            "only showing top 20 rows\n",
            "\n"
          ]
        }
      ]
    },
    {
      "cell_type": "code",
      "metadata": {
        "colab": {
          "base_uri": "https://localhost:8080/"
        },
        "id": "qI427qj9kGwM",
        "outputId": "58863437-f819-4feb-cbfe-40688beffc6b"
      },
      "source": [
        "# Alterando nomes das colunas \"valoraluguel\", \"valor_venda\" e \"qdte_quartos\"\n",
        "df1 = df1.withColumnRenamed(\"valoraluguel\", \"valor_aluguel\")\n",
        "df1 = df1.withColumnRenamed(\"valor_venda\", \"valor_venda_mil\")\n",
        "df1 = df1.withColumnRenamed(\"qdte_quartos\", \"qtde_quartos\")\n",
        "df1.show(1)"
      ],
      "execution_count": 173,
      "outputs": [
        {
          "output_type": "stream",
          "name": "stdout",
          "text": [
            "+--------------------+------------+-------------+-------------+-------------+--------------+------------+-------------+---------+--------+----------+-------+----------+-------+------------------+----------------+-------------+-------------+---------------+----------+-----------+------------+-------------+-----+---------------------+----------+-----+\n",
            "|        nome_empresa| tipo_imovel|cidade_imovel|site_pesquisa|estado_imovel|qtde_banheiros|qtde_quartos|tipo_contrato|mobilhado|academia|desocupado|garagem|area_lazer|piscina|plataforma_digital|preco_condominio|preco_periodo|valor_aluguel|valor_venda_mil|iptu_anual|qtde_suites|quadra_tenis|area_total_m2|andar|comercial_residencial|      data|index|\n",
            "+--------------------+------------+-------------+-------------+-------------+--------------+------------+-------------+---------+--------+----------+-------+----------+-------+------------------+----------------+-------------+-------------+---------------+----------+-----------+------------+-------------+-----+---------------------+----------+-----+\n",
            "|ADI Assessoria e ...|apartamentos|    São Paulo|       GOOGLE|    São Paulo|             1|           2|      Aluguel|      Não|     Não|       Não|      0|       Não|    Não|               ZAP|            50.0|          mês|         1.35|           null|      50.0|          0|         Não|         45.0|    0|          RESIDENTIAL|2020-06-17| null|\n",
            "+--------------------+------------+-------------+-------------+-------------+--------------+------------+-------------+---------+--------+----------+-------+----------+-------+------------------+----------------+-------------+-------------+---------------+----------+-----------+------------+-------------+-----+---------------------+----------+-----+\n",
            "only showing top 1 row\n",
            "\n"
          ]
        }
      ]
    },
    {
      "cell_type": "code",
      "metadata": {
        "colab": {
          "base_uri": "https://localhost:8080/"
        },
        "id": "EC0RQdTtkGya",
        "outputId": "c38480e4-ea79-4fe3-800b-aa143144bfdb"
      },
      "source": [
        "#Drop coluna \"descocupado\"\n",
        "df1.drop('desocupado')\n",
        "df1.show(5)"
      ],
      "execution_count": 79,
      "outputs": [
        {
          "output_type": "stream",
          "name": "stdout",
          "text": [
            "+--------------------+------------+--------------+-------------+--------------+--------------+------------+-------------+---------+--------+----------+-------+----------+-------+------------------+----------------+-------------+-------------+---------------+----------+-----------+------------+-------------+-----+---------------------+----------+\n",
            "|        nome_empresa| tipo_imovel| cidade_imovel|site_pesquisa| estado_imovel|qtde_banheiros|qtde_quartos|tipo_contrato|mobilhado|academia|desocupado|garagem|area_lazer|piscina|plataforma_digital|preco_condominio|preco_periodo|valor_aluguel|valor_venda_mil|iptu_anual|qtde_suites|quadra_tenis|area_total_m2|andar|comercial_residencial|      data|\n",
            "+--------------------+------------+--------------+-------------+--------------+--------------+------------+-------------+---------+--------+----------+-------+----------+-------+------------------+----------------+-------------+-------------+---------------+----------+-----------+------------+-------------+-----+---------------------+----------+\n",
            "|ADI Assessoria e ...|apartamentos|     São Paulo|       GOOGLE|     São Paulo|             1|           2|      Aluguel|      Não|     Não|       Não|      0|       Não|    Não|               ZAP|            50.0|          mês|         1.35|           null|      50.0|          0|         Não|         45.0|    0|          RESIDENTIAL|2020-06-17|\n",
            "|   San Remos Imóveis|apartamentos| Florianópolis|       GOOGLE|Santa Catarina|             3|           3|      Aluguel|      Não|     Não|       Não|      1|       Não|    Não|               ZAP|           1.961|          mês|        5.561|           null|     370.0|          1|         Não|        140.0|    0|          RESIDENTIAL|2020-07-10|\n",
            "|Família Bacellar ...|apartamentos|Rio de Janeiro|       GOOGLE|Rio de Janeiro|             3|           3|      Aluguel|      Não|     Não|       Não|      2|       Não|    Não|               ZAP|           835.0|          mês|        2.935|           null|     244.0|          1|         Não|        100.0|    0|          RESIDENTIAL|2020-07-23|\n",
            "|Next Soluções Imo...|apartamentos|      Campinas|       GOOGLE|     São Paulo|             2|           1|      Aluguel|      Não|     Não|       Não|      1|       Não|    Sim|               ZAP|         134.437|          mês|      137.437|           null|      90.0|          0|         Não|         80.0|    0|          RESIDENTIAL|2016-12-12|\n",
            "|QUINTO ANDAR SERV...|apartamentos|     São Paulo|       GOOGLE|     São Paulo|             3|           2|      Aluguel|      Não|     Não|       Não|      2|       Sim|    Sim|               ZAP|           536.0|          mês|        3.136|           null|      17.0|          2|         Não|         69.0|    0|          RESIDENTIAL|2020-07-28|\n",
            "+--------------------+------------+--------------+-------------+--------------+--------------+------------+-------------+---------+--------+----------+-------+----------+-------+------------------+----------------+-------------+-------------+---------------+----------+-----------+------------+-------------+-----+---------------------+----------+\n",
            "only showing top 5 rows\n",
            "\n"
          ]
        }
      ]
    },
    {
      "cell_type": "code",
      "metadata": {
        "colab": {
          "base_uri": "https://localhost:8080/"
        },
        "id": "db4Ukk7QkG2P",
        "outputId": "ddb67e8f-2aa6-4880-d537-9517d85747e9"
      },
      "source": [
        "#Quantidade de cada tipo de imóvel presente no dataframe em ordem decrescente\n",
        "df1.groupBy(F.col(\"tipo_imovel\")).count().sort(\"count\", ascending=False).show()"
      ],
      "execution_count": 80,
      "outputs": [
        {
          "output_type": "stream",
          "name": "stdout",
          "text": [
            "+-------------------+-----+\n",
            "|        tipo_imovel|count|\n",
            "+-------------------+-----+\n",
            "|       apartamentos| 7440|\n",
            "|              casas| 6768|\n",
            "|casas-de-condominio| 6720|\n",
            "|               flat| 5208|\n",
            "|          cobertura| 4763|\n",
            "|         quitinetes| 4392|\n",
            "|      casas-de-vila|  354|\n",
            "|             studio|  127|\n",
            "+-------------------+-----+\n",
            "\n"
          ]
        }
      ]
    },
    {
      "cell_type": "code",
      "metadata": {
        "colab": {
          "base_uri": "https://localhost:8080/"
        },
        "id": "95UoLDAs8GWw",
        "outputId": "41f2d1a9-3904-4477-dcd0-e1835998054c"
      },
      "source": [
        "# Descrição do imovel por tipo e cômodos\n",
        "df1.select(F.col(\"tipo_imovel\"),\n",
        "           F.col(\"qtde_quartos\"), \n",
        "           F.col(\"qtde_suites\"),\n",
        "           F.col(\"qtde_banheiros\"),  \n",
        "           F.col(\"quadra_tenis\"), \n",
        "           F.col(\"piscina\"), \n",
        "           F.col(\"area_lazer\"), \n",
        "           F.col(\"garagem\")).show(10)"
      ],
      "execution_count": 107,
      "outputs": [
        {
          "output_type": "stream",
          "name": "stdout",
          "text": [
            "+------------+------------+-----------+--------------+------------+-------+----------+-------+\n",
            "| tipo_imovel|qtde_quartos|qtde_suites|qtde_banheiros|quadra_tenis|piscina|area_lazer|garagem|\n",
            "+------------+------------+-----------+--------------+------------+-------+----------+-------+\n",
            "|apartamentos|           2|          0|             1|         Não|    Não|       Não|      0|\n",
            "|apartamentos|           3|          1|             3|         Não|    Não|       Não|      1|\n",
            "|apartamentos|           3|          1|             3|         Não|    Não|       Não|      2|\n",
            "|apartamentos|           1|          0|             2|         Não|    Sim|       Não|      1|\n",
            "|apartamentos|           2|          2|             3|         Não|    Sim|       Sim|      2|\n",
            "|apartamentos|           2|          1|             1|         Não|    Sim|       Não|      1|\n",
            "|apartamentos|           1|          1|             2|         Não|    Sim|       Não|      1|\n",
            "|apartamentos|           2|          1|             2|         Não|    Sim|       Não|      1|\n",
            "|apartamentos|           2|          2|             2|         Não|    Não|       Não|      1|\n",
            "|apartamentos|           2|          0|             1|         Não|    Não|       Não|      0|\n",
            "+------------+------------+-----------+--------------+------------+-------+----------+-------+\n",
            "only showing top 10 rows\n",
            "\n"
          ]
        }
      ]
    },
    {
      "cell_type": "code",
      "metadata": {
        "colab": {
          "base_uri": "https://localhost:8080/"
        },
        "id": "q6kjH0fIlrOW",
        "outputId": "24d8ca52-58ca-41c0-d76b-57063a5529e2"
      },
      "source": [
        "#Quantidade de imóveis anunciados, em ordem decrescente, em cidades do estado de São Paulo\n",
        "df1.groupBy(F.col(\"cidade_imovel\")).count().sort(\"count\", ascending=False).show()"
      ],
      "execution_count": 81,
      "outputs": [
        {
          "output_type": "stream",
          "name": "stdout",
          "text": [
            "+--------------------+-----+\n",
            "|       cidade_imovel|count|\n",
            "+--------------------+-----+\n",
            "|           São Paulo|12533|\n",
            "|      Rio de Janeiro| 3639|\n",
            "|            Campinas| 2327|\n",
            "|        Porto Alegre| 1473|\n",
            "|      Belo Horizonte|  873|\n",
            "|            Curitiba|  798|\n",
            "|      Ribeirão Preto|  716|\n",
            "|             Barueri|  634|\n",
            "| Santana de Parnaíba|  546|\n",
            "|       Florianópolis|  399|\n",
            "|             Niterói|  381|\n",
            "|         Santo André|  375|\n",
            "| São José dos Campos|  345|\n",
            "|São Bernardo do C...|  316|\n",
            "|            Valinhos|  302|\n",
            "|            Sorocaba|  300|\n",
            "|             Jundiaí|  296|\n",
            "|           Fortaleza|  296|\n",
            "|            Londrina|  280|\n",
            "|             Vinhedo|  260|\n",
            "+--------------------+-----+\n",
            "only showing top 20 rows\n",
            "\n"
          ]
        }
      ]
    },
    {
      "cell_type": "code",
      "metadata": {
        "colab": {
          "base_uri": "https://localhost:8080/"
        },
        "id": "eHTXVz4blrRz",
        "outputId": "9602e937-2993-442c-d481-98a83a7b3dd4"
      },
      "source": [
        "#Exibindo \"studios\" no estado de São Paulo\n",
        "df1.where((F.col(\"tipo_imovel\") == \"studio\") & (F.col(\"estado_imovel\") == \"São Paulo\")).show()"
      ],
      "execution_count": 112,
      "outputs": [
        {
          "output_type": "stream",
          "name": "stdout",
          "text": [
            "+--------------------+-----------+--------------+-------------+-------------+--------------+------------+-------------+---------+--------+----------+-------+----------+-------+------------------+----------------+-------------+-------------+---------------+----------+-----------+------------+-------------+-----+---------------------+----------+\n",
            "|        nome_empresa|tipo_imovel| cidade_imovel|site_pesquisa|estado_imovel|qtde_banheiros|qtde_quartos|tipo_contrato|mobilhado|academia|desocupado|garagem|area_lazer|piscina|plataforma_digital|preco_condominio|preco_periodo|valor_aluguel|valor_venda_mil|iptu_anual|qtde_suites|quadra_tenis|area_total_m2|andar|comercial_residencial|      data|\n",
            "+--------------------+-----------+--------------+-------------+-------------+--------------+------------+-------------+---------+--------+----------+-------+----------+-------+------------------+----------------+-------------+-------------+---------------+----------+-----------+------------+-------------+-----+---------------------+----------+\n",
            "|       Igor Ferreira|     studio|     São Paulo|       GOOGLE|    São Paulo|             1|           1|      Aluguel|      Sim|     Sim|       Não|      1|       Não|    Sim|          GRUPOZAP|            null|          mês|         null|           null|      null|          1|         Não|         null|    0|          RESIDENTIAL|2020-06-08|\n",
            "|Marco Rodrigo Pen...|     studio|     São Paulo|       GOOGLE|    São Paulo|             1|           1|      Aluguel|      Sim|     Sim|       Não|      1|       Não|    Sim|          GRUPOZAP|           350.0|          mês|         2.55|           null|      50.0|          0|         Não|         null|    0|          RESIDENTIAL|2020-05-30|\n",
            "|    LIVIA MARRACCINI|     studio|     São Paulo|       GOOGLE|    São Paulo|             1|           1|      Aluguel|      Sim|     Sim|       Não|      1|       Não|    Sim|          GRUPOZAP|           854.0|          mês|        3.954|           null|     220.0|          0|         Não|         null|    4|          RESIDENTIAL|2020-06-29|\n",
            "|Uniloc serviços e...|     studio|     São Paulo|       GOOGLE|    São Paulo|             1|           1|      Aluguel|      Sim|     Sim|       Não|      1|       Não|    Sim|          GRUPOZAP|            null|          mês|         null|           null|      null|          0|         Não|         null|    8|          RESIDENTIAL|2020-07-21|\n",
            "|        Luis Dornela|     studio|Ribeirão Preto|       GOOGLE|    São Paulo|             1|           1|      Aluguel|      Sim|     Sim|       Não|      1|       Não|    Sim|          GRUPOZAP|           290.0|          mês|         1.69|           null|     296.0|          0|         Não|         null|    0|          RESIDENTIAL|2020-02-08|\n",
            "|Mutri Soluções Im...|     studio|     São Paulo|       GOOGLE|    São Paulo|             1|           1|      Aluguel|      Não|     Sim|       Não|      1|       Não|    Sim|               ZAP|           410.0|          mês|         3.31|           null|     227.0|          1|         Não|         null|   10|          RESIDENTIAL|2019-09-19|\n",
            "|      W2 CONSTRUTORA|     studio|     São Paulo|       GOOGLE|    São Paulo|             1|           1|      Aluguel|      Não|     Não|       Não|      0|       Não|    Não|          GRUPOZAP|            90.0|          mês|        640.0|           null|     100.0|          1|         Não|         16.0|    5|          RESIDENTIAL|2020-07-20|\n",
            "|Jose Augusto Nasc...|     studio|      Campinas|       GOOGLE|    São Paulo|             1|           1|      Aluguel|      Sim|     Não|       Não|      1|       Não|    Não|          GRUPOZAP|            null|          mês|         null|           null|      null|          1|         Não|         null|   12|          RESIDENTIAL|2020-07-22|\n",
            "|     luciana pereira|     studio|     São Paulo|       GOOGLE|    São Paulo|             1|           1|      Aluguel|      Sim|     Sim|       Não|      1|       Não|    Sim|          GRUPOZAP|           556.0|          mês|        4.056|           null|     220.0|          0|         Não|         null|    0|          RESIDENTIAL|2020-07-19|\n",
            "|                Mora|     studio|     São Paulo|       GOOGLE|    São Paulo|             1|           1|      Aluguel|      Sim|     Não|       Não|      0|       Não|    Não|          GRUPOZAP|           500.0|          mês|          2.4|           null|     100.0|          1|         Não|         25.0|    6|          RESIDENTIAL|2020-07-27|\n",
            "|MENDES & BRAGA NE...|     studio|     Guarulhos|       GOOGLE|    São Paulo|             0|           1|      Aluguel|      Não|     Não|       Não|      1|       Não|    Não|               ZAP|           500.0|          mês|         2.25|           null|      null|          0|         Não|         36.0|    0|          RESIDENTIAL|2018-09-11|\n",
            "|Denise Cardoso de...|     studio|     São Paulo|       GOOGLE|    São Paulo|             1|           1|      Aluguel|      Sim|     Sim|       Não|      1|       Não|    Sim|          GRUPOZAP|           430.0|          mês|         2.43|           null|      null|          0|         Não|         null|    0|          RESIDENTIAL|2020-06-18|\n",
            "|   Andressa Nicolich|     studio|     São Paulo|       GOOGLE|    São Paulo|             1|           1|      Aluguel|      Sim|     Não|       Não|      0|       Não|    Não|          GRUPOZAP|           347.0|          mês|        2.147|           null|      null|          0|         Não|         32.0|    0|          RESIDENTIAL|2020-06-08|\n",
            "|ESCODELAR INTELIG...|     studio|     Guarulhos|       GOOGLE|    São Paulo|             0|           0|      Aluguel|      Não|     Não|       Não|      1|       Não|    Não|               ZAP|           470.0|          mês|         2.42|          370.0|      80.0|          0|         Não|         39.0|    4|          RESIDENTIAL|2020-05-30|\n",
            "|LUIS HENRIQUE DE ...|     studio|     São Paulo|       GOOGLE|    São Paulo|             1|           1|      Aluguel|      Sim|     Não|       Não|      0|       Não|    Não|          GRUPOZAP|           450.0|          mês|         1.65|           null|     350.0|          1|         Não|         35.0|    0|          RESIDENTIAL|2020-04-27|\n",
            "|  André Willaim Cogo|     studio|      Campinas|       GOOGLE|    São Paulo|             1|           1|      Aluguel|      Não|     Não|       Não|      0|       Não|    Não|          GRUPOZAP|           325.0|          mês|        825.0|           null|     188.0|          0|         Não|         null|    0|          RESIDENTIAL|2020-06-24|\n",
            "|    Thiago Francisco|     studio|     São Paulo|       GOOGLE|    São Paulo|             1|           1|      Aluguel|      Sim|     Sim|       Não|      0|       Não|    Não|          GRUPOZAP|           320.0|          mês|         1.72|           null|      null|          0|         Não|         28.0|    0|          RESIDENTIAL|2020-07-04|\n",
            "|     Milena carvalho|     studio|     São Paulo|       GOOGLE|    São Paulo|             1|           1|      Aluguel|      Não|     Sim|       Não|      0|       Não|    Não|          GRUPOZAP|           350.0|          mês|          2.3|           null|      99.0|          0|         Não|       6181.0|   16|          RESIDENTIAL|2017-09-11|\n",
            "|                Mora|     studio|     São Paulo|       GOOGLE|    São Paulo|             1|           1|      Aluguel|      Sim|     Não|       Não|      0|       Não|    Não|          GRUPOZAP|           500.0|          mês|          2.4|           null|     100.0|          1|         Não|         null|    6|          RESIDENTIAL|2020-06-03|\n",
            "|     SPECIAL IMÓVEIS|     studio|     São Paulo|       GOOGLE|    São Paulo|             1|           1|      Aluguel|      Não|     Não|       Não|      0|       Não|    Não|          GRUPOZAP|           107.0|          mês|        987.0|           null|      33.0|          0|         Não|         null|    0|          RESIDENTIAL|2020-07-17|\n",
            "+--------------------+-----------+--------------+-------------+-------------+--------------+------------+-------------+---------+--------+----------+-------+----------+-------+------------------+----------------+-------------+-------------+---------------+----------+-----------+------------+-------------+-----+---------------------+----------+\n",
            "only showing top 20 rows\n",
            "\n"
          ]
        }
      ]
    },
    {
      "cell_type": "code",
      "metadata": {
        "colab": {
          "base_uri": "https://localhost:8080/"
        },
        "id": "ak-gMzoYlrT3",
        "outputId": "bd9ec3d6-2b16-44b1-c00a-ae278ef77fe4"
      },
      "source": [
        "#Imóveis mobilhados no estado de Minas Gerais com 2 ou mais quartos\n",
        "\n",
        "filtroMG = F.col(\"estado_imovel\") == \"Minas Gerais\"\n",
        "filtroMobS = F.col(\"mobilhado\") == \"Sim\"\n",
        "filtro2q = F.col(\"qtde_quartos\") >= 2\n",
        "\n",
        "df1.select(F.col(\"tipo_imovel\"),\n",
        "          F.col(\"qtde_quartos\"),\n",
        "          F.col(\"cidade_imovel\"),\n",
        "          F.col(\"mobilhado\")).filter(filtroMG & filtroMobS & filtro2q).show()"
      ],
      "execution_count": 116,
      "outputs": [
        {
          "output_type": "stream",
          "name": "stdout",
          "text": [
            "+-------------------+------------+--------------+---------+\n",
            "|        tipo_imovel|qtde_quartos| cidade_imovel|mobilhado|\n",
            "+-------------------+------------+--------------+---------+\n",
            "|       apartamentos|           2|     Nova Lima|      Sim|\n",
            "|       apartamentos|           3|Belo Horizonte|      Sim|\n",
            "|       apartamentos|           2|Belo Horizonte|      Sim|\n",
            "|       apartamentos|           5|        Viçosa|      Sim|\n",
            "|       apartamentos|           2|Belo Horizonte|      Sim|\n",
            "|       apartamentos|           3|Belo Horizonte|      Sim|\n",
            "|       apartamentos|           3|Belo Horizonte|      Sim|\n",
            "|       apartamentos|           2|Belo Horizonte|      Sim|\n",
            "|       apartamentos|           3|     Nova Lima|      Sim|\n",
            "|       apartamentos|           3|Belo Horizonte|      Sim|\n",
            "|       apartamentos|           3|     Nova Lima|      Sim|\n",
            "|       apartamentos|           3|Belo Horizonte|      Sim|\n",
            "|       apartamentos|           3|       Uberaba|      Sim|\n",
            "|       apartamentos|           3|Belo Horizonte|      Sim|\n",
            "|       apartamentos|           3|Belo Horizonte|      Sim|\n",
            "|       apartamentos|           3|Belo Horizonte|      Sim|\n",
            "|       apartamentos|           3|       Uberaba|      Sim|\n",
            "|casas-de-condominio|           4|     Nova Lima|      Sim|\n",
            "|casas-de-condominio|           4|     Nova Lima|      Sim|\n",
            "|              casas|           2|Belo Horizonte|      Sim|\n",
            "+-------------------+------------+--------------+---------+\n",
            "only showing top 20 rows\n",
            "\n"
          ]
        }
      ]
    },
    {
      "cell_type": "code",
      "metadata": {
        "colab": {
          "base_uri": "https://localhost:8080/"
        },
        "id": "uSR47wRmlrXl",
        "outputId": "77d08b15-89d5-4744-d623-1aaf826a118e"
      },
      "source": [
        "#Quantidade de imóveis \"encontrados\" por cada site de pesquisa\n",
        "df1.groupBy(F.col(\"site_pesquisa\")).count().sort(\"count\", ascending=False).show()"
      ],
      "execution_count": 84,
      "outputs": [
        {
          "output_type": "stream",
          "name": "stdout",
          "text": [
            "+-------------------+-----+\n",
            "|      site_pesquisa|count|\n",
            "+-------------------+-----+\n",
            "|             GOOGLE|35252|\n",
            "|           GRUPOZAP|  333|\n",
            "|      nao informado|  138|\n",
            "|          PUBLISHER|   32|\n",
            "|GeoPointSource_NONE|   17|\n",
            "+-------------------+-----+\n",
            "\n"
          ]
        }
      ]
    },
    {
      "cell_type": "code",
      "metadata": {
        "colab": {
          "base_uri": "https://localhost:8080/"
        },
        "id": "EO3yCHJvlrVo",
        "outputId": "203ef33c-8190-4d8d-d75e-f0410ba93af7"
      },
      "source": [
        "#Valor máximo de aluguel em cada tipo de imóvel\n",
        "(df1.groupby(F.col(\"tipo_imovel\")).agg(\n",
        "    F.max(\"valor_aluguel\").alias(\"valor_max_aluguel\"),\n",
        "    F.max(\"valor_venda_mil\").alias(\"Valor_max_venda_mil\")).show())"
      ],
      "execution_count": 85,
      "outputs": [
        {
          "output_type": "stream",
          "name": "stdout",
          "text": [
            "+-------------------+-----------------+-------------------+\n",
            "|        tipo_imovel|valor_max_aluguel|Valor_max_venda_mil|\n",
            "+-------------------+-----------------+-------------------+\n",
            "|         quitinetes|            999.0|              900.0|\n",
            "|       apartamentos|            997.0|              990.0|\n",
            "|              casas|            980.0|              995.0|\n",
            "|casas-de-condominio|            990.0|              999.0|\n",
            "|             studio|            987.0|              640.0|\n",
            "|               flat|            950.0|              996.4|\n",
            "|      casas-de-vila|            990.0|              860.0|\n",
            "|          cobertura|            996.0|              999.9|\n",
            "+-------------------+-----------------+-------------------+\n",
            "\n"
          ]
        }
      ]
    },
    {
      "cell_type": "code",
      "metadata": {
        "colab": {
          "base_uri": "https://localhost:8080/"
        },
        "id": "u9EP0eCIyunM",
        "outputId": "84989609-3474-485c-a68d-90f36628e27e"
      },
      "source": [
        "#Quantidade media de quartos por tipo de imovel\n",
        "(df1.groupBy(F.col(\"tipo_imovel\")).agg(F.round(F.mean(\"qtde_quartos\"), 2).alias(\"media_qtde_quartos\"))).show()"
      ],
      "execution_count": 145,
      "outputs": [
        {
          "output_type": "stream",
          "name": "stdout",
          "text": [
            "+-------------------+------------------+\n",
            "|        tipo_imovel|media_qtde_quartos|\n",
            "+-------------------+------------------+\n",
            "|         quitinetes|               0.9|\n",
            "|       apartamentos|              2.11|\n",
            "|              casas|              2.75|\n",
            "|casas-de-condominio|              3.45|\n",
            "|             studio|              0.92|\n",
            "|               flat|              1.12|\n",
            "|      casas-de-vila|              2.24|\n",
            "|          cobertura|              3.21|\n",
            "+-------------------+------------------+\n",
            "\n"
          ]
        }
      ]
    },
    {
      "cell_type": "code",
      "metadata": {
        "colab": {
          "base_uri": "https://localhost:8080/"
        },
        "id": "giQMmRhb-XgQ",
        "outputId": "4a4edcc3-2a49-4748-db9e-5e878ea361ce"
      },
      "source": [
        "#Filtro por cidades iniciadaas com J\n",
        "df1.filter(\"cidade_imovel like 'J%' \").show()"
      ],
      "execution_count": 154,
      "outputs": [
        {
          "output_type": "stream",
          "name": "stdout",
          "text": [
            "+--------------------+------------+-------------+-------------+--------------+--------------+------------+-------------+---------+--------+----------+-------+----------+-------+------------------+----------------+-------------+-------------+---------------+----------+-----------+------------+-------------+-----+---------------------+----------+\n",
            "|        nome_empresa| tipo_imovel|cidade_imovel|site_pesquisa| estado_imovel|qtde_banheiros|qtde_quartos|tipo_contrato|mobilhado|academia|desocupado|garagem|area_lazer|piscina|plataforma_digital|preco_condominio|preco_periodo|valor_aluguel|valor_venda_mil|iptu_anual|qtde_suites|quadra_tenis|area_total_m2|andar|comercial_residencial|      data|\n",
            "+--------------------+------------+-------------+-------------+--------------+--------------+------------+-------------+---------+--------+----------+-------+----------+-------+------------------+----------------+-------------+-------------+---------------+----------+-----------+------------+-------------+-----+---------------------+----------+\n",
            "|LELLO IMÓVEIS JUN...|apartamentos|      Jundiaí|       GOOGLE|     São Paulo|             2|           3|      Aluguel|      Não|     Não|       Não|      2|       Não|    Não|               ZAP|           800.0|          mês|         2.45|           null|     251.0|          1|         Não|        168.0|    0|          RESIDENTIAL|2020-07-25|\n",
            "|SÓLIDA IMÓVEIS JU...|apartamentos|      Jundiaí|       GOOGLE|     São Paulo|             4|           3|      Aluguel|      Não|     Não|       Não|      3|       Não|    Sim|               ZAP|             1.1|          mês|         5.62|           null|     320.0|          3|         Não|        216.0|    0|          RESIDENTIAL|2020-07-02|\n",
            "|  Remax City Jundiaí|apartamentos|      Jundiaí|       GOOGLE|     São Paulo|             2|           2|      Aluguel|      Não|     Não|       Não|      2|       Não|    Não|               ZAP|           493.0|          mês|        2.493|           null|     800.0|          1|         Não|         78.0|    0|          RESIDENTIAL|2020-07-25|\n",
            "|RIBEIRO E ARRABAL...|apartamentos| Juiz de Fora|       GOOGLE|  Minas Gerais|             2|           3|      Aluguel|      Não|     Não|       Não|      1|       Não|    Não|               ZAP|           393.0|          mês|        1.593|           null|     158.0|          1|         Não|          1.0|    0|          RESIDENTIAL|2020-07-10|\n",
            "|ANAGÊ IMÓVEIS EIR...|apartamentos|    Joinville|       GOOGLE|Santa Catarina|             2|           2|      Aluguel|      Não|     Não|       Não|      1|       Não|    Não|          GRUPOZAP|           190.0|          mês|         1.14|           null|      54.0|          1|         Não|         89.0|    0|          RESIDENTIAL|2020-07-29|\n",
            "|Execut Consultori...|apartamentos|  João Pessoa|       GOOGLE|       Paraíba|             1|           2|      Aluguel|      Não|     Sim|       Não|      2|       Não|    Sim|          GRUPOZAP|           423.0|          mês|        2.923|           null|      null|          1|         Não|         75.0|    0|          RESIDENTIAL|2020-07-29|\n",
            "|   IMOBILIARIA BORBA|apartamentos|    Joinville|       GOOGLE|Santa Catarina|             2|           2|      Aluguel|      Não|     Não|       Não|      2|       Não|    Não|          GRUPOZAP|            null|          mês|         null|           null|      null|          1|         Não|         92.0|    0|          RESIDENTIAL|2020-06-12|\n",
            "|RIBEIRO E ARRABAL...|apartamentos| Juiz de Fora|       GOOGLE|  Minas Gerais|             2|           2|      Aluguel|      Não|     Não|       Não|      2|       Sim|    Não|               ZAP|           275.0|          mês|        1.775|           null|     153.0|          1|         Não|        116.0|    0|          RESIDENTIAL|2020-07-09|\n",
            "|  Remax City Jundiaí|apartamentos|      Jundiaí|       GOOGLE|     São Paulo|             1|           2|      Aluguel|      Não|     Não|       Não|      1|       Não|    Não|               ZAP|           320.0|          mês|         1.09|           null|      50.0|          0|         Não|         54.0|    0|          RESIDENTIAL|2020-07-25|\n",
            "|      Destak Imóveis|apartamentos|      Jundiaí|       GOOGLE|     São Paulo|             2|           3|      Aluguel|      Não|     Não|       Não|      2|       Não|    Não|               ZAP|           550.0|          mês|         2.15|           null|      93.0|          1|         Não|         84.0|    0|          RESIDENTIAL|2020-07-09|\n",
            "|  Remax City Jundiaí|apartamentos|      Jundiaí|       GOOGLE|     São Paulo|             2|           3|      Aluguel|      Não|     Não|       Não|      2|       Não|    Não|               ZAP|           500.0|          mês|          3.0|           null|      80.0|          1|         Não|         94.0|    0|          RESIDENTIAL|2020-07-14|\n",
            "|  Remax City Jundiaí|apartamentos|      Jundiaí|       GOOGLE|     São Paulo|             1|           2|      Aluguel|      Não|     Não|       Não|      1|       Não|    Não|               ZAP|           350.0|          mês|         1.75|           null|      72.0|          0|         Não|         54.0|    0|          RESIDENTIAL|2020-07-03|\n",
            "|Barão Imóveis  de...|apartamentos|      Jundiaí|       GOOGLE|     São Paulo|             2|           3|      Aluguel|      Não|     Não|       Não|      2|       Não|    Não|               ZAP|           474.0|          mês|        3.674|           null|     174.0|          1|         Não|        108.0|    0|          RESIDENTIAL|2020-07-23|\n",
            "|   IMOBILIARIA BORBA|apartamentos|    Joinville|       GOOGLE|Santa Catarina|             1|           2|      Aluguel|      Não|     Não|       Não|      1|       Não|    Não|          GRUPOZAP|            null|          mês|         null|           null|      null|          0|         Não|         55.0|    0|          RESIDENTIAL|2020-06-12|\n",
            "|RIBEIRO E ARRABAL...|apartamentos| Juiz de Fora|       GOOGLE|  Minas Gerais|             1|           3|      Aluguel|      Não|     Não|       Não|      2|       Não|    Não|               ZAP|           298.0|          mês|        1.698|           null|     127.0|          1|         Não|         95.0|    0|          RESIDENTIAL|2020-06-28|\n",
            "|  Remax City Jundiaí|apartamentos|      Jundiaí|       GOOGLE|     São Paulo|             2|           3|      Aluguel|      Não|     Não|       Não|      2|       Não|    Não|               ZAP|           535.0|          mês|        2.479|           null|     568.0|          1|         Não|        100.0|    0|          RESIDENTIAL|2020-06-23|\n",
            "|   IMOBILIARIA BORBA|apartamentos|    Joinville|       GOOGLE|Santa Catarina|             1|           2|      Aluguel|      Não|     Não|       Não|      1|       Não|    Não|          GRUPOZAP|            null|          mês|         null|           null|      null|          0|         Não|         60.0|    0|          RESIDENTIAL|2020-06-12|\n",
            "|      Destak Imóveis|apartamentos|      Jundiaí|       GOOGLE|     São Paulo|             2|           3|      Aluguel|      Não|     Não|       Não|      2|       Não|    Não|               ZAP|           420.0|          mês|         2.72|           null|      80.0|          1|         Não|         90.0|    0|          RESIDENTIAL|2020-07-09|\n",
            "|LELLO IMÓVEIS JUN...|apartamentos|      Jundiaí|       GOOGLE|     São Paulo|             1|           2|      Aluguel|      Não|     Não|       Não|      1|       Não|    Não|               ZAP|           510.0|          mês|         2.11|           null|      90.0|          0|         Não|         65.0|    0|          RESIDENTIAL|2020-07-25|\n",
            "|LELLO IMÓVEIS JUN...|apartamentos|      Jundiaí|       GOOGLE|     São Paulo|             1|           2|      Aluguel|      Não|     Não|       Não|      1|       Não|    Não|               ZAP|           318.0|          mês|        1.418|           null|     122.0|          0|         Não|         70.0|    0|          RESIDENTIAL|2020-06-23|\n",
            "+--------------------+------------+-------------+-------------+--------------+--------------+------------+-------------+---------+--------+----------+-------+----------+-------+------------------+----------------+-------------+-------------+---------------+----------+-----------+------------+-------------+-----+---------------------+----------+\n",
            "only showing top 20 rows\n",
            "\n"
          ]
        }
      ]
    },
    {
      "cell_type": "code",
      "metadata": {
        "colab": {
          "base_uri": "https://localhost:8080/"
        },
        "id": "vm61eYJit4cG",
        "outputId": "33c778e4-15a0-4c87-a832-e84280a304f3"
      },
      "source": [
        "w0 = Window.partitionBy(F.col(\"nome_empresa\")).orderBy(\"preco_condominio\")\n",
        "(df1.withColumn(\"row_number\", F.row_number().over(w0)).select(F.col(\"nome_empresa\"),\n",
        "                                                              F.col(\"tipo_imovel\"),\n",
        "                                                              F.col(\"cidade_imovel\"), \n",
        "                                                              F.col(\"comercial_residencial\"),\n",
        "                                                              F.col(\"preco_condominio\"))).show()"
      ],
      "execution_count": 165,
      "outputs": [
        {
          "output_type": "stream",
          "name": "stdout",
          "text": [
            "+--------------------+------------+--------------------+---------------------+----------------+\n",
            "|        nome_empresa| tipo_imovel|       cidade_imovel|comercial_residencial|preco_condominio|\n",
            "+--------------------+------------+--------------------+---------------------+----------------+\n",
            "|ADI Assessoria e ...|apartamentos|           São Paulo|          RESIDENTIAL|            50.0|\n",
            "|   San Remos Imóveis|apartamentos|       Florianópolis|          RESIDENTIAL|           1.961|\n",
            "|Família Bacellar ...|apartamentos|      Rio de Janeiro|          RESIDENTIAL|           835.0|\n",
            "|Next Soluções Imo...|apartamentos|            Campinas|          RESIDENTIAL|         134.437|\n",
            "|QUINTO ANDAR SERV...|apartamentos|           São Paulo|          RESIDENTIAL|           536.0|\n",
            "|FLAVIA DANIELLE P...|apartamentos|      Rio de Janeiro|          RESIDENTIAL|           809.0|\n",
            "|QUINTO ANDAR SERV...|apartamentos|           São Paulo|          RESIDENTIAL|           880.0|\n",
            "|LELLO IMÓVEIS TAT...|apartamentos|           São Paulo|          RESIDENTIAL|           800.0|\n",
            "|         NBI IMOVEIS|apartamentos|São José do Rio P...|          RESIDENTIAL|           450.0|\n",
            "|PORTAL ADMINISTRA...|apartamentos|        Porto Alegre|          RESIDENTIAL|           260.0|\n",
            "|LELLO IMÓVEIS JUN...|apartamentos|             Jundiaí|          RESIDENTIAL|           800.0|\n",
            "|QUINTO ANDAR SERV...|apartamentos|           São Paulo|          RESIDENTIAL|           810.0|\n",
            "|QUINTO ANDAR SERV...|apartamentos|      Belo Horizonte|          RESIDENTIAL|           850.0|\n",
            "|Predial Lins Prem...|apartamentos|           São Paulo|          RESIDENTIAL|           450.0|\n",
            "|    Fernanda Freitas|apartamentos|      Rio de Janeiro|          RESIDENTIAL|            1.25|\n",
            "|  IMIGRANTES IMOVEIS|apartamentos|        Praia Grande|          RESIDENTIAL|            null|\n",
            "|QUINTO ANDAR SERV...|apartamentos|           São Paulo|          RESIDENTIAL|           1.085|\n",
            "|    Potência Imóveis|apartamentos|             Barueri|          RESIDENTIAL|           690.0|\n",
            "|                 Ar7|apartamentos|        Praia Grande|          RESIDENTIAL|            null|\n",
            "|AG NEGÓCIOS IMOBI...|apartamentos|      Belo Horizonte|          RESIDENTIAL|           550.0|\n",
            "+--------------------+------------+--------------------+---------------------+----------------+\n",
            "only showing top 20 rows\n",
            "\n"
          ]
        }
      ]
    },
    {
      "cell_type": "code",
      "metadata": {
        "id": "SjnkNRdWGOMf"
      },
      "source": [
        "#client = storage.Client()\n",
        "#bucket = client.get_bucket('projeto-final-grupo09')\n",
        "     \n",
        "#bucket.blob('saida_dados/PJFINALzapLimpo_pyspark.csv').upload_from_string(df1.to_csv(index=False), 'text/csv')"
      ],
      "execution_count": null,
      "outputs": []
    }
  ]
}